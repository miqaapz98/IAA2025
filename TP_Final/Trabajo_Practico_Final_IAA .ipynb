{
 "cells": [
  {
   "cell_type": "markdown",
   "metadata": {
    "id": "GTJ4ALtck8eL"
   },
   "source": [
    "1. Autores y Datos de referencia del TP.\n",
    "\n",
    "\n",
    "Integrante: Pérez, Micaela    \n",
    "e-mail:  mperez@estudiantes.unsam.edu.ar\n",
    "\n",
    "Integrante: Fernández, Silvia.\n",
    "\n",
    "e-mail: silvia2484@gmail.com\n",
    "\n",
    "\n",
    "\n",
    "Título del entregable:\n",
    "\n",
    "\n",
    "Enlace al conjunto de datos original:"
   ]
  },
  {
   "cell_type": "markdown",
   "metadata": {
    "id": "kNI7Ev4XmYyh"
   },
   "source": [
    "2. Describir brevemente el conjunto de datos, incluyendo su origen. Tengan en\n",
    "cuenta que esto no solamente refiere al link donde obtuvieron el conjunto de\n",
    "datos sino que, tal vez, tengan que investigar cómo se obtuvo o dónde se\n",
    "generó.\n"
   ]
  },
  {
   "cell_type": "markdown",
   "metadata": {
    "id": "4mOGXy3NnDcv"
   },
   "source": []
  },
  {
   "cell_type": "markdown",
   "metadata": {
    "id": "ys7yJMPimtc3"
   },
   "source": [
    "3. Explorar el conjunto de datos:\n",
    "\n",
    "a. ¿Cuántas filas y columnas tiene?\n",
    "\n",
    "b. ¿Hay valores faltantes en algunas columnas?\n",
    "\n",
    "c. Analizar los tipos de datos presentes. Esto puede ser por columna o, si\n",
    "fueran demasiadas, cuántas son numéricas, cuántas categóricas, etc.\n"
   ]
  },
  {
   "cell_type": "code",
   "execution_count": 1,
   "metadata": {},
   "outputs": [],
   "source": [
    "#estos son codigos mustra para trabajar con el dataset\n",
    "import pandas as pd\n",
    "import seaborn as sns\n",
    "import matplotlib.pyplot as plt"
   ]
  },
  {
   "cell_type": "code",
   "execution_count": 8,
   "metadata": {},
   "outputs": [],
   "source": [
    "df = pd.read_csv(r\"C:\\Users\\mikpz\\Documents\\MICA\\iaa\\snic-pais.csv\", sep=',')"
   ]
  },
  {
   "cell_type": "code",
   "execution_count": 9,
   "metadata": {},
   "outputs": [
    {
     "name": "stdout",
     "output_type": "stream",
     "text": [
      "(filas , columnas)  (968, 12)\n"
     ]
    }
   ],
   "source": [
    "print('(filas , columnas) ' ,df.shape)"
   ]
  },
  {
   "cell_type": "code",
   "execution_count": 10,
   "metadata": {},
   "outputs": [
    {
     "name": "stdout",
     "output_type": "stream",
     "text": [
      "anio                           int64\n",
      "codigo_delito_snic_id         object\n",
      "codigo_delito_snic_nombre     object\n",
      "cantidad_hechos                int64\n",
      "cantidad_victimas            float64\n",
      "cantidad_victimas_masc       float64\n",
      "cantidad_victimas_fem        float64\n",
      "cantidad_victimas_sd         float64\n",
      "tasa_hechos                  float64\n",
      "tasa_victimas                float64\n",
      "tasa_victimas_masc           float64\n",
      "tasa_victimas_fem            float64\n",
      "dtype: object\n"
     ]
    }
   ],
   "source": [
    "print(df.dtypes)"
   ]
  },
  {
   "cell_type": "code",
   "execution_count": 11,
   "metadata": {},
   "outputs": [
    {
     "name": "stdout",
     "output_type": "stream",
     "text": [
      "Valores faltantes por columna:\n",
      " anio                           0\n",
      "codigo_delito_snic_id          0\n",
      "codigo_delito_snic_nombre      0\n",
      "cantidad_hechos                0\n",
      "cantidad_victimas            630\n",
      "cantidad_victimas_masc       630\n",
      "cantidad_victimas_fem        630\n",
      "cantidad_victimas_sd         630\n",
      "tasa_hechos                    0\n",
      "tasa_victimas                630\n",
      "tasa_victimas_masc           630\n",
      "tasa_victimas_fem            630\n",
      "dtype: int64\n",
      "Total de valores faltantes: 4410\n"
     ]
    }
   ],
   "source": [
    "#b\n",
    "print(\"Valores faltantes por columna:\\n\", df.isna().sum())\n",
    "print(\"Total de valores faltantes:\", df.isna().sum().sum())"
   ]
  },
  {
   "cell_type": "code",
   "execution_count": 16,
   "metadata": {},
   "outputs": [
    {
     "name": "stdout",
     "output_type": "stream",
     "text": [
      "\n",
      "Información general del dataset:\n",
      "<class 'pandas.core.frame.DataFrame'>\n",
      "RangeIndex: 497037 entries, 0 to 497036\n",
      "Data columns (total 17 columns):\n",
      " #   Column                     Non-Null Count   Dtype  \n",
      "---  ------                     --------------   -----  \n",
      " 0   provincia_id               497037 non-null  int64  \n",
      " 1   provincia_nombre           497037 non-null  object \n",
      " 2   departamento_id            497037 non-null  int64  \n",
      " 3   departamento_nombre        497037 non-null  object \n",
      " 4   anio                       497037 non-null  int64  \n",
      " 5   codigo_delito_snic_id      497037 non-null  object \n",
      " 6   cod_delito                 497037 non-null  int64  \n",
      " 7   codigo_delito_snic_nombre  497037 non-null  object \n",
      " 8   cantidad_hechos            497037 non-null  int64  \n",
      " 9   cantidad_victimas          176027 non-null  float64\n",
      " 10  cantidad_victimas_masc     176027 non-null  float64\n",
      " 11  cantidad_victimas_fem      176027 non-null  float64\n",
      " 12  cantidad_victimas_sd       176027 non-null  float64\n",
      " 13  tasa_hechos                474656 non-null  float64\n",
      " 14  tasa_victimas              159469 non-null  float64\n",
      " 15  tasa_victimas_masc         95050 non-null   float64\n",
      " 16  tasa_victimas_fem          95050 non-null   float64\n",
      "dtypes: float64(8), int64(5), object(4)\n",
      "memory usage: 64.5+ MB\n",
      "None\n"
     ]
    }
   ],
   "source": [
    "#c\n",
    "print(\"\\nInformación general del dataset:\")\n",
    "print(df.info())"
   ]
  },
  {
   "cell_type": "code",
   "execution_count": 5,
   "metadata": {},
   "outputs": [
    {
     "name": "stdout",
     "output_type": "stream",
     "text": [
      "\n",
      "Resumen estadístico de variables numéricas:\n",
      "              anio  cantidad_hechos  cantidad_victimas  \\\n",
      "count   968.000000       968.000000         338.000000   \n",
      "mean   2013.466942     40369.219008       24935.390533   \n",
      "std       7.129540     80928.394406       44129.503546   \n",
      "min    2000.000000         0.000000          25.000000   \n",
      "25%    2007.000000       879.000000        1760.500000   \n",
      "50%    2015.000000      6659.000000        4330.000000   \n",
      "75%    2020.000000     31028.750000       17220.250000   \n",
      "max    2023.000000    472655.000000      184038.000000   \n",
      "\n",
      "       cantidad_victimas_masc  cantidad_victimas_fem  cantidad_victimas_sd  \\\n",
      "count              338.000000             338.000000            338.000000   \n",
      "mean             10103.825444            8779.606509           5290.881657   \n",
      "std              19741.270355           17129.202348          10901.949414   \n",
      "min                  0.000000               0.000000              0.000000   \n",
      "25%                331.250000             203.250000            154.250000   \n",
      "50%               1441.500000             951.500000           1434.500000   \n",
      "75%               4286.750000            5640.000000           6292.000000   \n",
      "max              73586.000000           95602.000000          89000.000000   \n",
      "\n",
      "       tasa_hechos  tasa_victimas  tasa_victimas_masc  tasa_victimas_fem  \n",
      "count   968.000000     338.000000          338.000000         338.000000  \n",
      "mean     96.477081      59.649368           49.508144          40.647530  \n",
      "std     194.516970     105.459871           97.036690          78.346148  \n",
      "min       0.000000       0.055631            0.000000           0.000000  \n",
      "25%       2.072728       4.000253            1.596927           1.008783  \n",
      "50%      15.726103      10.643996            6.998866           4.637874  \n",
      "75%      72.212322      42.296385           19.622464          26.797085  \n",
      "max    1127.973600     431.310420          382.518860         402.845150  \n"
     ]
    }
   ],
   "source": [
    "print(\"\\nResumen estadístico de variables numéricas:\")\n",
    "print(df.describe())"
   ]
  },
  {
   "cell_type": "markdown",
   "metadata": {
    "id": "lMYRCoqhm0R_"
   },
   "source": [
    "4. Exponer el problema o pregunta a resolver. Tiene que quedar claro cuál es el\n",
    "target, si se trata de un problema de clasificación o regresión, y con qué\n",
    "métrica ó métricas esperan evaluar el modelo."
   ]
  },
  {
   "cell_type": "markdown",
   "metadata": {
    "id": "RiyvAwt_nHPX"
   },
   "source": []
  },
  {
   "cell_type": "markdown",
   "metadata": {
    "id": "Lu6iIiZYm793"
   },
   "source": [
    "5. Dado el target propuesto, elegir dos atributos (sólo dos) que crean que\n",
    "tengan un buen poder predictivo con respecto a ese target. Explicar por qué\n",
    "creen que es el caso y proveer uno o dos gráficos (no más) que muestren si\n",
    "es o no así. (No se preocupen si aún no da como esperan)."
   ]
  },
  {
   "cell_type": "code",
   "execution_count": null,
   "metadata": {
    "id": "AZUpc25mnKXH"
   },
   "outputs": [],
   "source": [
    "import pandas as pd\n",
    "import seaborn as sns\n",
    "import matplotlib.pyplot as plt\n",
    "\n",
    "# Obtener una matriz de correlación para ver la relación lineal entre variables numéricas\n",
    "correlation_matrix = df.corr(numeric_only=True)  # Calcula correlaciones solo entre numéricas\n",
    "print(correlation_matrix)\n",
    "\n",
    "#elegimos el target\n",
    "target = 'species'\n",
    "\n",
    "# Gráfico 1 de correlación para variables numéricas para seleccionar atributos\n",
    "\n",
    "num_cols = df.select_dtypes(include='number')  # selecciona solo columnas numéricas\n",
    "\n",
    "plt.figure(figsize=(10, 6))\n",
    "correlation_matrix = num_cols.corr()\n",
    "sns.heatmap(correlation_matrix, annot=True, cmap='coolwarm', fmt=\".2f\", linewidths=0.5)\n",
    "plt.title(\"Matriz de correlación entre variables numéricas\")\n",
    "plt.show()\n",
    "\n",
    "#Gráfico 2 un boxplot para ver la distribución de las numericas por categoria\n",
    "plt.figure(figsize=(8, 5))\n",
    "sns.boxplot(x='species', y='flipper_length_mm', data=df)\n",
    "plt.title(\"Distribución del largo de aleta por especie\")\n",
    "plt.show()\n",
    "\n",
    "#Gráfico 3: Scatterplot para ver la relación conjunta entre dos atributos y el target\n",
    "plt.figure(figsize=(8, 6))\n",
    "sns.scatterplot(x='bill_length_mm', y='flipper_length_mm', hue='species', data=df)\n",
    "plt.title(\"Relación entre largo de pico y largo de aleta según especie\")\n",
    "plt.show()\n",
    "\n",
    "\n"
   ]
  },
  {
   "cell_type": "code",
   "execution_count": 38,
   "metadata": {},
   "outputs": [
    {
     "name": "stdout",
     "output_type": "stream",
     "text": [
      "(filas , columnas)  (497037, 17)\n"
     ]
    }
   ],
   "source": [
    "df2 = pd.read_csv(r\"C:\\Users\\mikpz\\Documents\\MICA\\iaa\\snic-provincias.csv\",sep=',')\n",
    "\n",
    "print('(filas , columnas) ' ,df.shape)"
   ]
  },
  {
   "cell_type": "code",
   "execution_count": 39,
   "metadata": {},
   "outputs": [
    {
     "data": {
      "text/plain": [
       "Index(['provincia_id', 'provincia_nombre', 'departamento_id',\n",
       "       'departamento_nombre', 'anio', 'codigo_delito_snic_id', 'cod_delito',\n",
       "       'codigo_delito_snic_nombre', 'cantidad_hechos', 'cantidad_victimas',\n",
       "       'cantidad_victimas_masc', 'cantidad_victimas_fem',\n",
       "       'cantidad_victimas_sd', 'tasa_hechos', 'tasa_victimas',\n",
       "       'tasa_victimas_masc', 'tasa_victimas_fem'],\n",
       "      dtype='object')"
      ]
     },
     "execution_count": 39,
     "metadata": {},
     "output_type": "execute_result"
    }
   ],
   "source": [
    "df.columns"
   ]
  },
  {
   "cell_type": "code",
   "execution_count": 40,
   "metadata": {},
   "outputs": [
    {
     "data": {
      "text/plain": [
       "provincia_id                   int64\n",
       "provincia_nombre              object\n",
       "anio                           int64\n",
       "codigo_delito_snic_id         object\n",
       "codigo_delito_snic_nombre     object\n",
       "cantidad_hechos                int64\n",
       "cantidad_victimas            float64\n",
       "cantidad_victimas_masc       float64\n",
       "cantidad_victimas_fem        float64\n",
       "cantidad_victimas_sd         float64\n",
       "tasa_hechos                  float64\n",
       "tasa_victimas                float64\n",
       "tasa_victimas_masc           float64\n",
       "tasa_victimas_fem            float64\n",
       "dtype: object"
      ]
     },
     "execution_count": 40,
     "metadata": {},
     "output_type": "execute_result"
    }
   ],
   "source": [
    "df2.dtypes"
   ]
  },
  {
   "cell_type": "code",
   "execution_count": 37,
   "metadata": {},
   "outputs": [
    {
     "data": {
      "text/html": [
       "<div>\n",
       "<style scoped>\n",
       "    .dataframe tbody tr th:only-of-type {\n",
       "        vertical-align: middle;\n",
       "    }\n",
       "\n",
       "    .dataframe tbody tr th {\n",
       "        vertical-align: top;\n",
       "    }\n",
       "\n",
       "    .dataframe thead th {\n",
       "        text-align: right;\n",
       "    }\n",
       "</style>\n",
       "<table border=\"1\" class=\"dataframe\">\n",
       "  <thead>\n",
       "    <tr style=\"text-align: right;\">\n",
       "      <th></th>\n",
       "      <th>provincia_id,provincia_nombre,anio,codigo_delito_snic_id,codigo_delito_snic_nombre,cantidad_hechos,cantidad_victimas,cantidad_victimas_masc,cantidad_victimas_fem,cantidad_victimas_sd,tasa_hechos,tasa_victimas,tasa_victimas_masc,tasa_victimas_fem</th>\n",
       "    </tr>\n",
       "  </thead>\n",
       "  <tbody>\n",
       "    <tr>\n",
       "      <th>0</th>\n",
       "      <td>02,Ciudad Autónoma de Buenos Aires,2000,1,Homi...</td>\n",
       "    </tr>\n",
       "    <tr>\n",
       "      <th>1</th>\n",
       "      <td>02,Ciudad Autónoma de Buenos Aires,2000,2,Homi...</td>\n",
       "    </tr>\n",
       "    <tr>\n",
       "      <th>2</th>\n",
       "      <td>02,Ciudad Autónoma de Buenos Aires,2000,3,Muer...</td>\n",
       "    </tr>\n",
       "  </tbody>\n",
       "</table>\n",
       "</div>"
      ],
      "text/plain": [
       "  provincia_id,provincia_nombre,anio,codigo_delito_snic_id,codigo_delito_snic_nombre,cantidad_hechos,cantidad_victimas,cantidad_victimas_masc,cantidad_victimas_fem,cantidad_victimas_sd,tasa_hechos,tasa_victimas,tasa_victimas_masc,tasa_victimas_fem\n",
       "0  02,Ciudad Autónoma de Buenos Aires,2000,1,Homi...                                                                                                                                                                                                   \n",
       "1  02,Ciudad Autónoma de Buenos Aires,2000,2,Homi...                                                                                                                                                                                                   \n",
       "2  02,Ciudad Autónoma de Buenos Aires,2000,3,Muer...                                                                                                                                                                                                   "
      ]
     },
     "execution_count": 37,
     "metadata": {},
     "output_type": "execute_result"
    }
   ],
   "source": [
    "df2.head(3)"
   ]
  },
  {
   "cell_type": "code",
   "execution_count": null,
   "metadata": {},
   "outputs": [],
   "source": []
  }
 ],
 "metadata": {
  "colab": {
   "provenance": []
  },
  "kernelspec": {
   "display_name": "Python 3",
   "name": "python3"
  },
  "language_info": {
   "codemirror_mode": {
    "name": "ipython",
    "version": 3
   },
   "file_extension": ".py",
   "mimetype": "text/x-python",
   "name": "python",
   "nbconvert_exporter": "python",
   "pygments_lexer": "ipython3",
   "version": "3.12.6"
  }
 },
 "nbformat": 4,
 "nbformat_minor": 0
}
